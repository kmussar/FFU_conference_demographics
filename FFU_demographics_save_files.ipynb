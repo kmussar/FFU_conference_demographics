{
 "cells": [
  {
   "cell_type": "code",
   "execution_count": 3,
   "metadata": {},
   "outputs": [],
   "source": [
    "import pandas as pd \n",
    "import numpy as np \n",
    "import matplotlib.pyplot as plt\n",
    "import seaborn as sns\n",
    "import pickle"
   ]
  },
  {
   "cell_type": "markdown",
   "metadata": {},
   "source": [
    "# Formatting\n",
    "\n",
    "## Apply these settings to all"
   ]
  },
  {
   "cell_type": "code",
   "execution_count": 30,
   "metadata": {},
   "outputs": [
    {
     "data": {
      "text/plain": [
       "<Figure size 1440x720 with 0 Axes>"
      ]
     },
     "metadata": {},
     "output_type": "display_data"
    }
   ],
   "source": [
    "colors = ['#421639','#1b3c31','#a26629','#9a7565','#e5e5e5','#674460','#48625a','#a0a0a0']\n",
    "sns.set_palette(sns.color_palette(colors))\n",
    "sns.set_context('poster', font_scale=1.2)\n",
    "plt.figure(figsize=(20,10))\n",
    "\n",
    "'''\n",
    "sns.set_style('white',{'axes.grid': 'False'})\n",
    "plt.rcParams.update({'text.color':'white',\n",
    "                    'axes.labelcolor':'white', \n",
    "                    'xtick.color':'white',\n",
    "                    'ytick.color':'white',\n",
    "                    'axes.edgecolor':'white'})\n",
    "'''\n",
    "plt.tight_layout()\n",
    "#plt.xlabel(labelpad=20)\n",
    "#plt.ylabel(labelpad=20)"
   ]
  },
  {
   "cell_type": "code",
   "execution_count": 7,
   "metadata": {
    "collapsed": true
   },
   "outputs": [
    {
     "name": "stdout",
     "output_type": "stream",
     "text": [
      "<class 'pandas.core.frame.DataFrame'>\n",
      "RangeIndex: 805 entries, 0 to 804\n",
      "Data columns (total 11 columns):\n",
      " #   Column                                                  Non-Null Count  Dtype \n",
      "---  ------                                                  --------------  ----- \n",
      " 0   How do you identify? (Race and Ethnicity)               801 non-null    object\n",
      " 1   race_category                                           805 non-null    object\n",
      " 2   Are you looking for a new role or opportunity?          803 non-null    object\n",
      " 3   What are your top 3 needs as a womxn of color at work?  773 non-null    object\n",
      " 4   Billing Zip                                             776 non-null    object\n",
      " 5   Job Title                                               805 non-null    object\n",
      " 6   Job_Title_Grouped                                       805 non-null    object\n",
      " 7   Career_Level                                            787 non-null    object\n",
      " 8   Industry                                                759 non-null    object\n",
      " 9   Company                                                 765 non-null    object\n",
      " 10  Company_Original                                        804 non-null    object\n",
      "dtypes: object(11)\n",
      "memory usage: 69.3+ KB\n"
     ]
    }
   ],
   "source": [
    "# Load data\n",
    "with open('ffu_demographics_cleaned','rb') as read_file:\n",
    "    df = pickle.load(read_file)\n",
    "df.info()"
   ]
  },
  {
   "cell_type": "code",
   "execution_count": 11,
   "metadata": {
    "collapsed": true
   },
   "outputs": [
    {
     "name": "stdout",
     "output_type": "stream",
     "text": [
      "<class 'pandas.core.frame.DataFrame'>\n",
      "RangeIndex: 805 entries, 0 to 804\n",
      "Data columns (total 11 columns):\n",
      " #   Column                                                  Non-Null Count  Dtype \n",
      "---  ------                                                  --------------  ----- \n",
      " 0   How do you identify? (Race and Ethnicity)               801 non-null    object\n",
      " 1   race_category                                           805 non-null    object\n",
      " 2   Are you looking for a new role or opportunity?          803 non-null    object\n",
      " 3   What are your top 3 needs as a womxn of color at work?  773 non-null    object\n",
      " 4   Billing Zip                                             776 non-null    object\n",
      " 5   Job Title                                               805 non-null    object\n",
      " 6   Job_Title_Grouped                                       805 non-null    object\n",
      " 7   Career_Level                                            787 non-null    object\n",
      " 8   Industry                                                759 non-null    object\n",
      " 9   Company                                                 765 non-null    object\n",
      " 10  Company_Original                                        804 non-null    object\n",
      "dtypes: object(11)\n",
      "memory usage: 69.3+ KB\n"
     ]
    }
   ],
   "source": [
    "with open('ffu_career_levels_df','rb') as read_file:\n",
    "    df_mergeFounders = pickle.load(read_file)\n",
    "df_mergeFounders.info()"
   ]
  },
  {
   "cell_type": "code",
   "execution_count": 10,
   "metadata": {
    "collapsed": true
   },
   "outputs": [
    {
     "name": "stdout",
     "output_type": "stream",
     "text": [
      "<class 'pandas.core.frame.DataFrame'>\n",
      "RangeIndex: 805 entries, 0 to 804\n",
      "Data columns (total 11 columns):\n",
      " #   Column                                                  Non-Null Count  Dtype \n",
      "---  ------                                                  --------------  ----- \n",
      " 0   How do you identify? (Race and Ethnicity)               801 non-null    object\n",
      " 1   race_category                                           805 non-null    object\n",
      " 2   Are you looking for a new role or opportunity?          803 non-null    object\n",
      " 3   What are your top 3 needs as a womxn of color at work?  773 non-null    object\n",
      " 4   Billing Zip                                             776 non-null    object\n",
      " 5   Job Title                                               805 non-null    object\n",
      " 6   Job_Title_Grouped                                       805 non-null    object\n",
      " 7   Career_Level                                            787 non-null    object\n",
      " 8   Industry                                                759 non-null    object\n",
      " 9   Company                                                 765 non-null    object\n",
      " 10  Company_Original                                        804 non-null    object\n",
      "dtypes: object(11)\n",
      "memory usage: 69.3+ KB\n"
     ]
    }
   ],
   "source": [
    "with open('ffu_industry_df','rb') as read_file:\n",
    "    df_industry = pickle.load(read_file)\n",
    "df_industry.info()"
   ]
  },
  {
   "cell_type": "code",
   "execution_count": 25,
   "metadata": {
    "collapsed": true
   },
   "outputs": [
    {
     "name": "stdout",
     "output_type": "stream",
     "text": [
      "<class 'pandas.core.frame.DataFrame'>\n",
      "RangeIndex: 3 entries, 0 to 2\n",
      "Data columns (total 2 columns):\n",
      " #   Column         Non-Null Count  Dtype \n",
      "---  ------         --------------  ----- \n",
      " 0   unique_values  3 non-null      object\n",
      " 1   counts         3 non-null      int64 \n",
      "dtypes: int64(1), object(1)\n",
      "memory usage: 176.0+ bytes\n"
     ]
    }
   ],
   "source": [
    "with open('ffu_new_role_df','rb') as read_file:\n",
    "    df_new_role = pickle.load(read_file)\n",
    "df_new_role.info()"
   ]
  },
  {
   "cell_type": "markdown",
   "metadata": {},
   "source": [
    "## Seeking Next Role"
   ]
  },
  {
   "cell_type": "code",
   "execution_count": 89,
   "metadata": {},
   "outputs": [
    {
     "data": {
      "image/png": "[encoded data removed]",
      "text/plain": [
       "<Figure size 1440x1440 with 1 Axes>"
      ]
     },
     "metadata": {},
     "output_type": "display_data"
    }
   ],
   "source": [
    "colors = ['#421639','#1b3c31','#a26629']\n",
    "colors_light = ['#9a7565', '#e5e5e5','#a0a0a0','#a26629']\n",
    "\n",
    "plt.figure(figsize=(20,20))\n",
    "sns.set_context('poster',font_scale=4)\n",
    "plt.pie(\n",
    "    # using data df\n",
    "    df_new_role['counts'],\n",
    "    # with the labels being categories\n",
    "    labels=df_new_role['unique_values'],\n",
    "    # with no shadows\n",
    "    shadow=False,\n",
    "    # with colors set above \n",
    "    colors=colors_light,\n",
    "    # with the start angle at 90%\n",
    "    startangle=90,\n",
    "    # with the percent listed as a fraction\n",
    "    #autopct='%1.1f%%',\n",
    "    textprops={'color':'w'}\n",
    "    )\n",
    "\n",
    "# View the plot drop above\n",
    "plt.axis('equal')\n",
    "\n",
    "# View the plot\n",
    "plt.tight_layout()\n",
    "plt.savefig('next_role_light_transparent.png', transparent=True, dpi=300,bbox_inches='tight')\n",
    "plt.show()"
   ]
  },
  {
   "cell_type": "markdown",
   "metadata": {},
   "source": [
    "# Career Levels:"
   ]
  },
  {
   "cell_type": "code",
   "execution_count": 91,
   "metadata": {},
   "outputs": [
    {
     "data": {
      "image/png": "[encoded data removed]",
      "text/plain": [
       "<Figure size 1440x720 with 1 Axes>"
      ]
     },
     "metadata": {},
     "output_type": "display_data"
    }
   ],
   "source": [
    "colors_light = ['#9a7565', '#e5e5e5','#a26629','#a0a0a0']\n",
    "sns.set_palette(sns.color_palette(colors_light))\n",
    "sns.set_context('poster', font_scale=1.2)\n",
    "plt.figure(figsize=(20,10))\n",
    "order = ['Entry','Middle','Senior','Executive']\n",
    "sns.countplot(x='Career_Level', data=df_mergeFounders, order=order)\n",
    "plt.xlabel('Career Level',labelpad=20)\n",
    "plt.ylabel('Number of Attendees',labelpad=20)\n",
    "\n",
    "sns.set_style('white',{'axes.grid': 'False'})\n",
    "plt.rcParams.update({'text.color':'white',\n",
    "                    'axes.labelcolor':'white', \n",
    "                    'xtick.color':'white',\n",
    "                    'ytick.color':'white',\n",
    "                    'axes.edgecolor':'white'})\n",
    "\n",
    "plt.tight_layout()\n",
    "plt.savefig('career_levels_light_transparent.png', transparent=True, dpi=300,bbox_inches='tight')"
   ]
  },
  {
   "cell_type": "markdown",
   "metadata": {},
   "source": [
    "# Industry"
   ]
  },
  {
   "cell_type": "code",
   "execution_count": 94,
   "metadata": {},
   "outputs": [
    {
     "data": {
      "text/plain": [
       "<Figure size 2160x5400 with 0 Axes>"
      ]
     },
     "metadata": {},
     "output_type": "display_data"
    },
    {
     "data": {
      "image/png": "[encoded data removed]",
      "text/plain": [
       "<Figure size 360x360 with 1 Axes>"
      ]
     },
     "metadata": {},
     "output_type": "display_data"
    }
   ],
   "source": [
    "# Purple 421639\n",
    "# Green 1b3c31\n",
    "# Gold a26629 \n",
    "# Gray e5e5e5\n",
    "# Copper 9a7565\n",
    "\n",
    "sns.set_context('talk', font_scale=.8)\n",
    "plt.figure(figsize=(30,75))\n",
    "order = (['Education', 'Technology', 'Startup', 'Community', 'Finance','Retail',\n",
    "          'Healthcare','HR','Consulting','Administrative','Marketing',\n",
    "          'Government','Business','Entertainment','Legal','Energy','Other'])\n",
    "sns.catplot(y='Industry',data=df_industry,kind='count',color='#e5e5e5',order=order)\n",
    "plt.ylabel('Industry',labelpad=20)\n",
    "plt.xlabel('Number of Attendees',labelpad=20)\n",
    "\n",
    "sns.set_style('white',{'axes.grid': 'False'})\n",
    "plt.rcParams.update({'text.color':'white',\n",
    "                    'axes.labelcolor':'white', \n",
    "                    'xtick.color':'white',\n",
    "                    'ytick.color':'white',\n",
    "                    'axes.edgecolor':'white'})\n",
    "\n",
    "\n",
    "plt.tight_layout()\n",
    "plt.savefig('industry_gray_transparent_WhiteText.png', transparent=True, dpi=300,bbox_inches='tight')"
   ]
  },
  {
   "cell_type": "markdown",
   "metadata": {},
   "source": [
    "# Race"
   ]
  },
  {
   "cell_type": "code",
   "execution_count": 96,
   "metadata": {},
   "outputs": [
    {
     "data": {
      "text/plain": [
       "<Figure size 1440x720 with 0 Axes>"
      ]
     },
     "metadata": {},
     "output_type": "display_data"
    },
    {
     "data": {
      "image/png": "[encoded data removed]",
      "text/plain": [
       "<Figure size 360x360 with 1 Axes>"
      ]
     },
     "metadata": {},
     "output_type": "display_data"
    }
   ],
   "source": [
    "# Purple 421639\n",
    "# Green 1b3c31\n",
    "# Gold a26629 \n",
    "# Gray e5e5e5\n",
    "# Copper 9a7565\n",
    "\n",
    "sns.set_context('talk',font_scale=.9)\n",
    "plt.figure(figsize=(20,10))\n",
    "order = ['Black', 'Asian', 'Hispanic', 'Multiracial', 'Caucasian','NHPI', 'AIAN', 'Unknown']\n",
    "sns.catplot(y='race_category',data=df,kind='count',color='#9a7565', order=order)\n",
    "plt.ylabel('Number of Attendees',labelpad=20)\n",
    "plt.xlabel('Race',labelpad=20)\n",
    "\n",
    "sns.set_style('white',{'axes.grid': 'False'})\n",
    "plt.rcParams.update({'text.color':'white',\n",
    "                    'axes.labelcolor':'white', \n",
    "                    'xtick.color':'white',\n",
    "                    'ytick.color':'white',\n",
    "                    'axes.edgecolor':'white'})\n",
    "\n",
    "plt.tight_layout()\n",
    "plt.savefig('race_copper_transparent.png', transparent=True, dpi=300,bbox_inches='tight')"
   ]
  },
  {
   "cell_type": "markdown",
   "metadata": {},
   "source": [
    "### Note:  Top Needs are in another notebook 'FFU_needs_clean' "
   ]
  },
  {
   "cell_type": "markdown",
   "metadata": {},
   "source": [
    "### Was trying to change style sheets, but not getting them to appear in the available styles directory - so ignore this. "
   ]
  },
  {
   "cell_type": "raw",
   "metadata": {},
   "source": [
    "import matplotlib as mpl\n",
    "mpl.get_configdir()\n",
    "#mpl.get_cachedir()"
   ]
  },
  {
   "cell_type": "raw",
   "metadata": {
    "scrolled": true
   },
   "source": [
    "plt.style.use('dark_background')"
   ]
  },
  {
   "cell_type": "raw",
   "metadata": {},
   "source": [
    "plt.style.available"
   ]
  }
 ],
 "metadata": {
  "kernelspec": {
   "display_name": "Python 3",
   "language": "python",
   "name": "python3"
  },
  "language_info": {
   "codemirror_mode": {
    "name": "ipython",
    "version": 3
   },
   "file_extension": ".py",
   "mimetype": "text/x-python",
   "name": "python",
   "nbconvert_exporter": "python",
   "pygments_lexer": "ipython3",
   "version": "3.7.3"
  }
 },
 "nbformat": 4,
 "nbformat_minor": 2
}
