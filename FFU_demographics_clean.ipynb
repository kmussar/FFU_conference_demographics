{
 "cells": [
  {
   "cell_type": "code",
   "execution_count": 15,
   "metadata": {},
   "outputs": [],
   "source": [
    "import pandas as pd \n",
    "import numpy as np \n",
    "import matplotlib.pyplot as plt\n",
    "import seaborn as sns\n",
    "import pickle"
   ]
  },
  {
   "cell_type": "code",
   "execution_count": 59,
   "metadata": {},
   "outputs": [
    {
     "name": "stdout",
     "output_type": "stream",
     "text": [
      "<class 'pandas.core.frame.DataFrame'>\n",
      "RangeIndex: 805 entries, 0 to 804\n",
      "Data columns (total 11 columns):\n",
      " #   Column                                                  Non-Null Count  Dtype \n",
      "---  ------                                                  --------------  ----- \n",
      " 0   How do you identify? (Race and Ethnicity)               801 non-null    object\n",
      " 1   race_category                                           805 non-null    object\n",
      " 2   Are you looking for a new role or opportunity?          803 non-null    object\n",
      " 3   What are your top 3 needs as a womxn of color at work?  773 non-null    object\n",
      " 4   Billing Zip                                             776 non-null    object\n",
      " 5   Job Title                                               805 non-null    object\n",
      " 6   Job_Title_Grouped                                       805 non-null    object\n",
      " 7   Career_Level                                            787 non-null    object\n",
      " 8   Industry                                                759 non-null    object\n",
      " 9   Company                                                 765 non-null    object\n",
      " 10  Company_Original                                        804 non-null    object\n",
      "dtypes: object(11)\n",
      "memory usage: 69.3+ KB\n"
     ]
    },
    {
     "data": {
      "text/html": [
       "<div>\n",
       "<style scoped>\n",
       "    .dataframe tbody tr th:only-of-type {\n",
       "        vertical-align: middle;\n",
       "    }\n",
       "\n",
       "    .dataframe tbody tr th {\n",
       "        vertical-align: top;\n",
       "    }\n",
       "\n",
       "    .dataframe thead th {\n",
       "        text-align: right;\n",
       "    }\n",
       "</style>\n",
       "<table border=\"1\" class=\"dataframe\">\n",
       "  <thead>\n",
       "    <tr style=\"text-align: right;\">\n",
       "      <th></th>\n",
       "      <th>How do you identify? (Race and Ethnicity)</th>\n",
       "      <th>race_category</th>\n",
       "      <th>Are you looking for a new role or opportunity?</th>\n",
       "      <th>What are your top 3 needs as a womxn of color at work?</th>\n",
       "      <th>Billing Zip</th>\n",
       "      <th>Job Title</th>\n",
       "      <th>Job_Title_Grouped</th>\n",
       "      <th>Career_Level</th>\n",
       "      <th>Industry</th>\n",
       "      <th>Company</th>\n",
       "      <th>Company_Original</th>\n",
       "    </tr>\n",
       "  </thead>\n",
       "  <tbody>\n",
       "    <tr>\n",
       "      <th>0</th>\n",
       "      <td>African American</td>\n",
       "      <td>Black</td>\n",
       "      <td>Interested, but not actively seeking a new role</td>\n",
       "      <td>To have my expertise acknowledge\\nTo be includ...</td>\n",
       "      <td>98118</td>\n",
       "      <td>Director, Volunteer Engagement</td>\n",
       "      <td>Director, Volunteer Engagement</td>\n",
       "      <td>Executive/Director</td>\n",
       "      <td>Community Building/ Outreach</td>\n",
       "      <td>United Way Of King County</td>\n",
       "      <td>United Way Of King County</td>\n",
       "    </tr>\n",
       "    <tr>\n",
       "      <th>1</th>\n",
       "      <td>Multiracial Se Asian *and* Pacific Islander Am...</td>\n",
       "      <td>Multiracial</td>\n",
       "      <td>Interested, but not actively seeking a new role</td>\n",
       "      <td>* As a result of the leaky STEMM pipeline in p...</td>\n",
       "      <td>98402</td>\n",
       "      <td>Biologist</td>\n",
       "      <td>Biologist</td>\n",
       "      <td>Mid</td>\n",
       "      <td>Healthcare / Life Sciences</td>\n",
       "      <td>University Of Washington</td>\n",
       "      <td>University Of Washington</td>\n",
       "    </tr>\n",
       "    <tr>\n",
       "      <th>2</th>\n",
       "      <td>South Asian</td>\n",
       "      <td>Asian</td>\n",
       "      <td>No</td>\n",
       "      <td>NaN</td>\n",
       "      <td>98107</td>\n",
       "      <td>Health Economist</td>\n",
       "      <td>Health Economist</td>\n",
       "      <td>Mid</td>\n",
       "      <td>Healthcare / Life Sciences</td>\n",
       "      <td>Seattle Genetics</td>\n",
       "      <td>Seattle Genetics</td>\n",
       "    </tr>\n",
       "    <tr>\n",
       "      <th>3</th>\n",
       "      <td>South Asian</td>\n",
       "      <td>Asian</td>\n",
       "      <td>Interested, but not actively seeking a new role</td>\n",
       "      <td>representation and community of other womxn of...</td>\n",
       "      <td>98103</td>\n",
       "      <td>Principal</td>\n",
       "      <td>Principal</td>\n",
       "      <td>Executive/Director</td>\n",
       "      <td>Education</td>\n",
       "      <td>Mercer</td>\n",
       "      <td>Mercer</td>\n",
       "    </tr>\n",
       "    <tr>\n",
       "      <th>4</th>\n",
       "      <td>African American</td>\n",
       "      <td>Black</td>\n",
       "      <td>Interested, but not actively seeking a new role</td>\n",
       "      <td>Affinity with a trusted band of people; for th...</td>\n",
       "      <td>98052</td>\n",
       "      <td>Director, Opportunity, Equity And Inclusion</td>\n",
       "      <td>Director, Opportunity, Equity And Inclusion</td>\n",
       "      <td>Executive/Director</td>\n",
       "      <td>Education</td>\n",
       "      <td>Lake Washington School District</td>\n",
       "      <td>Lake Washington School District</td>\n",
       "    </tr>\n",
       "  </tbody>\n",
       "</table>\n",
       "</div>"
      ],
      "text/plain": [
       "           How do you identify? (Race and Ethnicity) race_category  \\\n",
       "0                                   African American         Black   \n",
       "1  Multiracial Se Asian *and* Pacific Islander Am...   Multiracial   \n",
       "2                                        South Asian         Asian   \n",
       "3                                        South Asian         Asian   \n",
       "4                                   African American         Black   \n",
       "\n",
       "    Are you looking for a new role or opportunity?  \\\n",
       "0  Interested, but not actively seeking a new role   \n",
       "1  Interested, but not actively seeking a new role   \n",
       "2                                               No   \n",
       "3  Interested, but not actively seeking a new role   \n",
       "4  Interested, but not actively seeking a new role   \n",
       "\n",
       "  What are your top 3 needs as a womxn of color at work? Billing Zip  \\\n",
       "0  To have my expertise acknowledge\\nTo be includ...           98118   \n",
       "1  * As a result of the leaky STEMM pipeline in p...           98402   \n",
       "2                                                NaN           98107   \n",
       "3  representation and community of other womxn of...           98103   \n",
       "4  Affinity with a trusted band of people; for th...           98052   \n",
       "\n",
       "                                     Job Title  \\\n",
       "0               Director, Volunteer Engagement   \n",
       "1                                    Biologist   \n",
       "2                             Health Economist   \n",
       "3                                    Principal   \n",
       "4  Director, Opportunity, Equity And Inclusion   \n",
       "\n",
       "                             Job_Title_Grouped        Career_Level  \\\n",
       "0               Director, Volunteer Engagement  Executive/Director   \n",
       "1                                    Biologist                 Mid   \n",
       "2                             Health Economist                 Mid   \n",
       "3                                    Principal  Executive/Director   \n",
       "4  Director, Opportunity, Equity And Inclusion  Executive/Director   \n",
       "\n",
       "                       Industry                          Company  \\\n",
       "0  Community Building/ Outreach        United Way Of King County   \n",
       "1    Healthcare / Life Sciences         University Of Washington   \n",
       "2    Healthcare / Life Sciences                 Seattle Genetics   \n",
       "3                     Education                           Mercer   \n",
       "4                     Education  Lake Washington School District   \n",
       "\n",
       "                  Company_Original  \n",
       "0        United Way Of King County  \n",
       "1         University Of Washington  \n",
       "2                 Seattle Genetics  \n",
       "3                           Mercer  \n",
       "4  Lake Washington School District  "
      ]
     },
     "execution_count": 59,
     "metadata": {},
     "output_type": "execute_result"
    }
   ],
   "source": [
    "df = pd.read_csv('virtual_assembly_rsvp_list_noNames_cleaned3.csv')\n",
    "df.info()\n",
    "df.head()"
   ]
  },
  {
   "cell_type": "markdown",
   "metadata": {},
   "source": [
    "## Seeking Next Role\n",
    "Raw data includes 6 entries as follows"
   ]
  },
  {
   "cell_type": "code",
   "execution_count": 3,
   "metadata": {},
   "outputs": [
    {
     "data": {
      "text/plain": [
       "No                                                                                    354\n",
       "Interested, but not actively seeking a new role                                       235\n",
       "Yes, actively seeking a new role                                                      188\n",
       "Yes, actively seeking a new role | Interested, but not actively seeking a new role     16\n",
       "No | Interested, but not actively seeking a new role                                    9\n",
       "seeking                                                                                 1\n",
       "Name: Are you looking for a new role or opportunity?, dtype: int64"
      ]
     },
     "execution_count": 3,
     "metadata": {},
     "output_type": "execute_result"
    }
   ],
   "source": [
    "df['Are you looking for a new role or opportunity?'].value_counts()"
   ]
  },
  {
   "cell_type": "code",
   "execution_count": 38,
   "metadata": {},
   "outputs": [],
   "source": [
    "colors = ['#421639','#1b3c31','#a26629','#9a7565','#e5e5e5']\n",
    "# Set your custom color palette\n",
    "sns.set_palette(sns.color_palette(colors))"
   ]
  },
  {
   "cell_type": "code",
   "execution_count": 5,
   "metadata": {
    "scrolled": true
   },
   "outputs": [
    {
     "data": {
      "text/plain": [
       "<matplotlib.axes._subplots.AxesSubplot at 0x21c065bda58>"
      ]
     },
     "execution_count": 5,
     "metadata": {},
     "output_type": "execute_result"
    },
    {
     "data": {
      "image/png": "[encoded data removed]",
      "text/plain": [
       "<Figure size 1440x432 with 1 Axes>"
      ]
     },
     "metadata": {
      "needs_background": "light"
     },
     "output_type": "display_data"
    }
   ],
   "source": [
    "#sns.set_context('poster')\n",
    "plt.figure(figsize=(20,6))\n",
    "sns.countplot(x='Are you looking for a new role or opportunity?', data=df)"
   ]
  },
  {
   "cell_type": "markdown",
   "metadata": {},
   "source": [
    "### Merge categories together to end up with only 3 categories: \n",
    "* No\n",
    "* Yes, actively seeking a new role\n",
    "* Interested, but not actively seeking \n",
    "\n",
    "Specifically, these categories were merged into the 'interested, but not actively seeking' group: \n",
    "* Yes, actively seeking a new role | Interested, but not actively seeking a new role     16 entries\n",
    "* No | Interested, but not actively seeking a new role                                    9 entries\n",
    "\n",
    "This was merged into yes:\n",
    "* seeking 1 entry"
   ]
  },
  {
   "cell_type": "code",
   "execution_count": 7,
   "metadata": {},
   "outputs": [],
   "source": [
    "replace_seeking = ({\"Yes, actively seeking a new role | Interested, but not actively seeking a new role\":\n",
    "                   \"Interested, but not actively seeking a new role\",\n",
    "                   \"No | Interested, but not actively seeking a new role\":\n",
    "                    \"Interested, but not actively seeking a new role\",\n",
    "                   \"seeking\":\"Yes, actively seeking a new role\"})"
   ]
  },
  {
   "cell_type": "code",
   "execution_count": 8,
   "metadata": {},
   "outputs": [
    {
     "data": {
      "text/plain": [
       "No                                                 354\n",
       "Interested, but not actively seeking a new role    260\n",
       "Yes, actively seeking a new role                   189\n",
       "Name: Are you looking for a new role or opportunity?, dtype: int64"
      ]
     },
     "execution_count": 8,
     "metadata": {},
     "output_type": "execute_result"
    }
   ],
   "source": [
    "df['Are you looking for a new role or opportunity?'].replace(replace_seeking,inplace=True)\n",
    "df['Are you looking for a new role or opportunity?'].value_counts()"
   ]
  },
  {
   "cell_type": "code",
   "execution_count": 9,
   "metadata": {},
   "outputs": [
    {
     "data": {
      "text/plain": [
       "No            354\n",
       "Interested    260\n",
       "Yes           189\n",
       "Name: Are you looking for a new role or opportunity?, dtype: int64"
      ]
     },
     "execution_count": 9,
     "metadata": {},
     "output_type": "execute_result"
    }
   ],
   "source": [
    "rename_seeking = ({'Yes, actively seeking a new role':'Yes',\n",
    "                  'Interested, but not actively seeking a new role':\n",
    "                   'Interested'})\n",
    "df['Are you looking for a new role or opportunity?'].replace(rename_seeking,inplace=True)\n",
    "df['Are you looking for a new role or opportunity?'].value_counts()"
   ]
  },
  {
   "cell_type": "code",
   "execution_count": 10,
   "metadata": {},
   "outputs": [
    {
     "data": {
      "text/plain": [
       "<matplotlib.axes._subplots.AxesSubplot at 0x21c06d63b38>"
      ]
     },
     "execution_count": 10,
     "metadata": {},
     "output_type": "execute_result"
    },
    {
     "data": {
      "image/png": "[encoded data removed]",
      "text/plain": [
       "<Figure size 1440x720 with 1 Axes>"
      ]
     },
     "metadata": {
      "needs_background": "light"
     },
     "output_type": "display_data"
    }
   ],
   "source": [
    "#sns.set_context('poster', font_scale=2)\n",
    "plt.figure(figsize=(20,10))\n",
    "sns.countplot(x='Are you looking for a new role or opportunity?', data=df,order=['No','Interested','Yes'])"
   ]
  },
  {
   "cell_type": "markdown",
   "metadata": {},
   "source": [
    "### Save pickle"
   ]
  },
  {
   "cell_type": "raw",
   "metadata": {},
   "source": [
    "with open('ffu_demographics_cleaned', 'wb') as to_write:\n",
    "    pickle.dump(df, to_write)"
   ]
  },
  {
   "cell_type": "markdown",
   "metadata": {},
   "source": [
    "# Pie charts"
   ]
  },
  {
   "cell_type": "code",
   "execution_count": 44,
   "metadata": {
    "scrolled": true
   },
   "outputs": [
    {
     "data": {
      "text/plain": [
       "No            354\n",
       "Interested    260\n",
       "Yes           189\n",
       "Name: Are you looking for a new role or opportunity?, dtype: int64"
      ]
     },
     "execution_count": 44,
     "metadata": {},
     "output_type": "execute_result"
    }
   ],
   "source": [
    "df['Are you looking for a new role or opportunity?'].value_counts()"
   ]
  },
  {
   "cell_type": "code",
   "execution_count": 45,
   "metadata": {},
   "outputs": [
    {
     "data": {
      "text/html": [
       "<div>\n",
       "<style scoped>\n",
       "    .dataframe tbody tr th:only-of-type {\n",
       "        vertical-align: middle;\n",
       "    }\n",
       "\n",
       "    .dataframe tbody tr th {\n",
       "        vertical-align: top;\n",
       "    }\n",
       "\n",
       "    .dataframe thead th {\n",
       "        text-align: right;\n",
       "    }\n",
       "</style>\n",
       "<table border=\"1\" class=\"dataframe\">\n",
       "  <thead>\n",
       "    <tr style=\"text-align: right;\">\n",
       "      <th></th>\n",
       "      <th>unique_values</th>\n",
       "      <th>counts</th>\n",
       "    </tr>\n",
       "  </thead>\n",
       "  <tbody>\n",
       "    <tr>\n",
       "      <th>0</th>\n",
       "      <td>No</td>\n",
       "      <td>354</td>\n",
       "    </tr>\n",
       "    <tr>\n",
       "      <th>1</th>\n",
       "      <td>Interested</td>\n",
       "      <td>260</td>\n",
       "    </tr>\n",
       "    <tr>\n",
       "      <th>2</th>\n",
       "      <td>Yes</td>\n",
       "      <td>189</td>\n",
       "    </tr>\n",
       "  </tbody>\n",
       "</table>\n",
       "</div>"
      ],
      "text/plain": [
       "  unique_values  counts\n",
       "0            No     354\n",
       "1    Interested     260\n",
       "2           Yes     189"
      ]
     },
     "execution_count": 45,
     "metadata": {},
     "output_type": "execute_result"
    }
   ],
   "source": [
    "# Create a new dataframe with counts - use these in the pie chart\n",
    "df_new_role = df['Are you looking for a new role or opportunity?'].value_counts().rename_axis('unique_values').reset_index(name='counts')\n",
    "df_new_role"
   ]
  },
  {
   "cell_type": "markdown",
   "metadata": {},
   "source": [
    "### Save pickle"
   ]
  },
  {
   "cell_type": "raw",
   "metadata": {},
   "source": [
    "with open('ffu_new_role_df', 'wb') as to_write:\n",
    "    pickle.dump(df_new_role, to_write)"
   ]
  },
  {
   "cell_type": "code",
   "execution_count": 57,
   "metadata": {},
   "outputs": [
    {
     "data": {
      "image/png": "[encoded data removed]",
      "text/plain": [
       "<Figure size 432x288 with 1 Axes>"
      ]
     },
     "metadata": {},
     "output_type": "display_data"
    }
   ],
   "source": [
    "# Create a pie chart\n",
    "plt.pie(\n",
    "    # using data df\n",
    "    df_new_role['counts'],\n",
    "    # with the labels being categories\n",
    "    labels=df_new_role['unique_values'],\n",
    "    # with no shadows\n",
    "    shadow=False,\n",
    "    # with colors set above \n",
    "    colors=colors,\n",
    "    # with the start angle at 90%\n",
    "    startangle=90,\n",
    "    # with the percent listed as a fraction\n",
    "    autopct='%1.1f%%',\n",
    "    )\n",
    "\n",
    "# View the plot drop above\n",
    "plt.axis('equal')\n",
    "\n",
    "# View the plot\n",
    "plt.tight_layout()\n",
    "plt.show()"
   ]
  },
  {
   "cell_type": "markdown",
   "metadata": {},
   "source": [
    "# Career Levels:"
   ]
  },
  {
   "cell_type": "code",
   "execution_count": 11,
   "metadata": {},
   "outputs": [
    {
     "data": {
      "text/plain": [
       "<matplotlib.axes._subplots.AxesSubplot at 0x21c06e850f0>"
      ]
     },
     "execution_count": 11,
     "metadata": {},
     "output_type": "execute_result"
    },
    {
     "data": {
      "image/png": "[encoded data removed]",
      "text/plain": [
       "<Figure size 1440x432 with 1 Axes>"
      ]
     },
     "metadata": {
      "needs_background": "light"
     },
     "output_type": "display_data"
    }
   ],
   "source": [
    "plt.figure(figsize=(20,6))\n",
    "sns.countplot(x='Career_Level', data=df)"
   ]
  },
  {
   "cell_type": "code",
   "execution_count": 12,
   "metadata": {},
   "outputs": [],
   "source": [
    "df_mergeFounders = df.copy()"
   ]
  },
  {
   "cell_type": "code",
   "execution_count": 13,
   "metadata": {},
   "outputs": [
    {
     "data": {
      "text/plain": [
       "array(['Executive/Director', 'Mid', 'Founder/ Startup CEO',\n",
       "       'Senior (Associate/Associate Director/Principal/Manager)',\n",
       "       'Entry (Student/Intern)', nan], dtype=object)"
      ]
     },
     "execution_count": 13,
     "metadata": {},
     "output_type": "execute_result"
    }
   ],
   "source": [
    "df_mergeFounders['Career_Level'].unique()"
   ]
  },
  {
   "cell_type": "code",
   "execution_count": 14,
   "metadata": {},
   "outputs": [
    {
     "data": {
      "text/plain": [
       "Middle       467\n",
       "Executive    132\n",
       "Senior        95\n",
       "Entry         93\n",
       "Name: Career_Level, dtype: int64"
      ]
     },
     "execution_count": 14,
     "metadata": {},
     "output_type": "execute_result"
    }
   ],
   "source": [
    "rename_career_level = ({'Executive/Director':'Executive',\n",
    "                       'Mid':'Middle',\n",
    "                       'Founder/ Startup CEO':'Executive',\n",
    "                       'Senior (Associate/Associate Director/Principal/Manager)':'Senior',\n",
    "                       'Entry (Student/Intern)':'Entry'})\n",
    "df_mergeFounders['Career_Level'].replace(rename_career_level,inplace=True)\n",
    "df_mergeFounders['Career_Level'].value_counts()"
   ]
  },
  {
   "cell_type": "code",
   "execution_count": null,
   "metadata": {},
   "outputs": [],
   "source": [
    "sns.set_context('poster',font_scale=1.3)\n",
    "plt.figure(figsize=(20,6))\n",
    "order = ['Entry','Middle','Senior','Executive']\n",
    "sns.countplot(x='Career_Level', data=df_mergeFounders, order=order)"
   ]
  },
  {
   "cell_type": "markdown",
   "metadata": {},
   "source": [
    "### Save pickle"
   ]
  },
  {
   "cell_type": "raw",
   "metadata": {},
   "source": [
    "with open('ffu_career_levels_df', 'wb') as to_write:\n",
    "    pickle.dump(df_mergeFounders, to_write)"
   ]
  },
  {
   "cell_type": "markdown",
   "metadata": {},
   "source": [
    "# Save figures"
   ]
  },
  {
   "cell_type": "code",
   "execution_count": null,
   "metadata": {},
   "outputs": [],
   "source": [
    "plt.figure(figsize=(20,6))\n",
    "sns.set_style('white',{'axes.grid': 'False'})\n",
    "plt.rcParams.update({'text.color':'white',\n",
    "                    'axes.labelcolor':'white', \n",
    "                    'xtick.color':'white',\n",
    "                    'ytick.color':'white',\n",
    "                    'axes.edgecolor':'white'})\n",
    "plt.tight_layout()\n",
    "plt.xlabel('Topic', labelpad=20)\n",
    "plt.ylabel('Number of Attendees', labelpad=20)\n",
    "sns.set_context('poster', font_scale=1)\n",
    "\n",
    "sns.barplot(x='Topic', y='Number of Attendees',data=needs_df,color='#e5e5e5')\n",
    "plt.savefig('top_needs_bar_gray', dpi=300,transparent=True,bbox_inches='tight')"
   ]
  },
  {
   "cell_type": "markdown",
   "metadata": {},
   "source": [
    "# Industry"
   ]
  },
  {
   "cell_type": "code",
   "execution_count": 18,
   "metadata": {},
   "outputs": [
    {
     "data": {
      "text/plain": [
       "<matplotlib.axes._subplots.AxesSubplot at 0x21c06ee3c50>"
      ]
     },
     "execution_count": 18,
     "metadata": {},
     "output_type": "execute_result"
    },
    {
     "data": {
      "image/png": "[encoded data removed]",
      "text/plain": [
       "<Figure size 1440x432 with 1 Axes>"
      ]
     },
     "metadata": {
      "needs_background": "light"
     },
     "output_type": "display_data"
    }
   ],
   "source": [
    "plt.figure(figsize=(20,6))\n",
    "sns.countplot(x='Industry', data=df,orient='v')"
   ]
  },
  {
   "cell_type": "markdown",
   "metadata": {},
   "source": [
    "### Create dataframe for counts of industries"
   ]
  },
  {
   "cell_type": "code",
   "execution_count": 19,
   "metadata": {},
   "outputs": [
    {
     "data": {
      "text/html": [
       "<div>\n",
       "<style scoped>\n",
       "    .dataframe tbody tr th:only-of-type {\n",
       "        vertical-align: middle;\n",
       "    }\n",
       "\n",
       "    .dataframe tbody tr th {\n",
       "        vertical-align: top;\n",
       "    }\n",
       "\n",
       "    .dataframe thead th {\n",
       "        text-align: right;\n",
       "    }\n",
       "</style>\n",
       "<table border=\"1\" class=\"dataframe\">\n",
       "  <thead>\n",
       "    <tr style=\"text-align: right;\">\n",
       "      <th></th>\n",
       "      <th>Industry</th>\n",
       "      <th>count</th>\n",
       "    </tr>\n",
       "  </thead>\n",
       "  <tbody>\n",
       "    <tr>\n",
       "      <th>0</th>\n",
       "      <td>Community Building/ Outreach</td>\n",
       "      <td>66.0</td>\n",
       "    </tr>\n",
       "    <tr>\n",
       "      <th>1</th>\n",
       "      <td>Healthcare / Life Sciences</td>\n",
       "      <td>47.0</td>\n",
       "    </tr>\n",
       "    <tr>\n",
       "      <th>2</th>\n",
       "      <td>Healthcare / Life Sciences</td>\n",
       "      <td>47.0</td>\n",
       "    </tr>\n",
       "    <tr>\n",
       "      <th>3</th>\n",
       "      <td>Education</td>\n",
       "      <td>146.0</td>\n",
       "    </tr>\n",
       "    <tr>\n",
       "      <th>4</th>\n",
       "      <td>Education</td>\n",
       "      <td>146.0</td>\n",
       "    </tr>\n",
       "  </tbody>\n",
       "</table>\n",
       "</div>"
      ],
      "text/plain": [
       "                       Industry  count\n",
       "0  Community Building/ Outreach   66.0\n",
       "1    Healthcare / Life Sciences   47.0\n",
       "2    Healthcare / Life Sciences   47.0\n",
       "3                     Education  146.0\n",
       "4                     Education  146.0"
      ]
     },
     "execution_count": 19,
     "metadata": {},
     "output_type": "execute_result"
    }
   ],
   "source": [
    "industry_df = pd.DataFrame()\n",
    "industry_df['Industry'] = df['Industry']\n",
    "industry_df['count'] = df['Industry'].groupby(df['Industry']).transform('count')\n",
    "industry_df.head()"
   ]
  },
  {
   "cell_type": "code",
   "execution_count": 20,
   "metadata": {},
   "outputs": [
    {
     "data": {
      "text/plain": [
       "Education                                           146\n",
       "Technology and Data                                 103\n",
       "Startup                                              72\n",
       "Community Building/ Outreach                         66\n",
       "Finance / Accounting                                 59\n",
       "Retail / eCommerce / Restaurants                     53\n",
       "Healthcare / Life Sciences                           47\n",
       "HR/ Recruitment / Career Advancement / Diversity     39\n",
       "Consulting / Management Consulting                   34\n",
       "Administrative                                       26\n",
       "Marketing / Advertising                              25\n",
       "Government                                           18\n",
       "Entertainment                                        16\n",
       "Business & Sales                                     16\n",
       "Legal                                                11\n",
       "Energy                                               10\n",
       "Journalism / Media                                    6\n",
       "Manufacturing                                         6\n",
       "Construction / Engineering                            3\n",
       "Science (not including life science)                  2\n",
       "Shipping                                              1\n",
       "Name: Industry, dtype: int64"
      ]
     },
     "execution_count": 20,
     "metadata": {},
     "output_type": "execute_result"
    }
   ],
   "source": [
    "industry_df['Industry'].value_counts()"
   ]
  },
  {
   "cell_type": "code",
   "execution_count": 21,
   "metadata": {},
   "outputs": [],
   "source": [
    "df_industry = df.copy()"
   ]
  },
  {
   "cell_type": "code",
   "execution_count": 22,
   "metadata": {},
   "outputs": [
    {
     "data": {
      "text/plain": [
       "Education                                           146\n",
       "Technology and Data                                 103\n",
       "Startup                                              72\n",
       "Community Building/ Outreach                         66\n",
       "Finance / Accounting                                 59\n",
       "Retail / eCommerce / Restaurants                     53\n",
       "Healthcare / Life Sciences                           47\n",
       "HR/ Recruitment / Career Advancement / Diversity     39\n",
       "Consulting / Management Consulting                   34\n",
       "Administrative                                       26\n",
       "Marketing / Advertising                              25\n",
       "Government                                           18\n",
       "Other                                                18\n",
       "Business & Sales                                     16\n",
       "Entertainment                                        16\n",
       "Legal                                                11\n",
       "Energy                                               10\n",
       "Name: Industry, dtype: int64"
      ]
     },
     "execution_count": 22,
     "metadata": {},
     "output_type": "execute_result"
    }
   ],
   "source": [
    "rename_industry = ({'Journalism / Media':'Other',\n",
    "                   'Manufacturing':'Other',\n",
    "                   'Construction / Engineering':'Other',\n",
    "                   'Science (not including life science)':'Other',\n",
    "                   'Shipping':'Other'})\n",
    "df_industry['Industry'].replace(rename_industry,inplace=True)\n",
    "df_industry['Industry'].value_counts()"
   ]
  },
  {
   "cell_type": "code",
   "execution_count": 23,
   "metadata": {},
   "outputs": [
    {
     "data": {
      "text/plain": [
       "Education         146\n",
       "Technology        103\n",
       "Startup            72\n",
       "Community          66\n",
       "Finance            59\n",
       "Retail             53\n",
       "Healthcare         47\n",
       "HR                 39\n",
       "Consulting         34\n",
       "Administrative     26\n",
       "Marketing          25\n",
       "Other              18\n",
       "Government         18\n",
       "Entertainment      16\n",
       "Business           16\n",
       "Legal              11\n",
       "Energy             10\n",
       "Name: Industry, dtype: int64"
      ]
     },
     "execution_count": 23,
     "metadata": {},
     "output_type": "execute_result"
    }
   ],
   "source": [
    "rename_industry2 = ({'Technology and Data':'Technology',\n",
    "                    'Community Building/ Outreach':'Community',\n",
    "                    'Finance / Accounting':'Finance',\n",
    "                    'Retail / eCommerce / Restaurants':'Retail',\n",
    "                    'Healthcare / Life Sciences':'Healthcare',\n",
    "                    'HR/ Recruitment / Career Advancement / Diversity':'HR',\n",
    "                    'Consulting / Management Consulting':'Consulting',\n",
    "                    'Marketing / Advertising':'Marketing',\n",
    "                    'Business & Sales':'Business'})\n",
    "df_industry['Industry'].replace(rename_industry2,inplace=True)\n",
    "df_industry['Industry'].value_counts()"
   ]
  },
  {
   "cell_type": "code",
   "execution_count": null,
   "metadata": {},
   "outputs": [],
   "source": [
    "sns.set_context('talk')\n",
    "plt.figure(figsize=(20,50))\n",
    "order = (['Education', 'Technology', 'Startup', 'Community', 'Finance','Retail',\n",
    "          'Healthcare','HR','Consulting','Administrative','Marketing',\n",
    "          'Government','Business','Entertainment','Legal','Energy','Other'])\n",
    "sns.catplot(y='Industry',data=df_industry,kind='count',color='#421639',order=order)"
   ]
  },
  {
   "cell_type": "markdown",
   "metadata": {},
   "source": [
    "### Save Pickle"
   ]
  },
  {
   "cell_type": "raw",
   "metadata": {},
   "source": [
    "with open('ffu_industry_df', 'wb') as to_write:\n",
    "    pickle.dump(df_industry, to_write)"
   ]
  },
  {
   "cell_type": "markdown",
   "metadata": {},
   "source": [
    "# Race"
   ]
  },
  {
   "cell_type": "code",
   "execution_count": 25,
   "metadata": {
    "scrolled": true
   },
   "outputs": [
    {
     "data": {
      "text/plain": [
       "Black                                                                           177\n",
       "African American                                                                 82\n",
       "Latinx                                                                           68\n",
       "Asian                                                                            39\n",
       "South Asian                                                                      35\n",
       "                                                                               ... \n",
       "Mixed - Black And White Of Jamaican, Irish, Portuguese, And English Ancestry      1\n",
       "Mixed - Native Hawaiian, Japanese, Chinese, Filipino, Caucasian                   1\n",
       "Non-hispanic African American                                                     1\n",
       "Mexican-american.                                                                 1\n",
       "Native American; Navajo Tribe                                                     1\n",
       "Name: How do you identify? (Race and Ethnicity), Length: 231, dtype: int64"
      ]
     },
     "execution_count": 25,
     "metadata": {},
     "output_type": "execute_result"
    }
   ],
   "source": [
    "df['How do you identify? (Race and Ethnicity)'].value_counts()"
   ]
  },
  {
   "cell_type": "code",
   "execution_count": 26,
   "metadata": {},
   "outputs": [
    {
     "data": {
      "text/plain": [
       "231"
      ]
     },
     "execution_count": 26,
     "metadata": {},
     "output_type": "execute_result"
    }
   ],
   "source": [
    "df['How do you identify? (Race and Ethnicity)'].nunique()"
   ]
  },
  {
   "cell_type": "markdown",
   "metadata": {},
   "source": [
    "## Import re-cleaned data on race - from OpenRefine "
   ]
  },
  {
   "cell_type": "code",
   "execution_count": 27,
   "metadata": {},
   "outputs": [
    {
     "name": "stdout",
     "output_type": "stream",
     "text": [
      "<class 'pandas.core.frame.DataFrame'>\n",
      "RangeIndex: 805 entries, 0 to 804\n",
      "Data columns (total 11 columns):\n",
      " #   Column                                                  Non-Null Count  Dtype \n",
      "---  ------                                                  --------------  ----- \n",
      " 0   How do you identify? (Race and Ethnicity)               801 non-null    object\n",
      " 1   race_category                                           805 non-null    object\n",
      " 2   Are you looking for a new role or opportunity?          803 non-null    object\n",
      " 3   What are your top 3 needs as a womxn of color at work?  773 non-null    object\n",
      " 4   Billing Zip                                             776 non-null    object\n",
      " 5   Job Title                                               805 non-null    object\n",
      " 6   Job_Title_Grouped                                       805 non-null    object\n",
      " 7   Career_Level                                            787 non-null    object\n",
      " 8   Industry                                                759 non-null    object\n",
      " 9   Company                                                 765 non-null    object\n",
      " 10  Company_Original                                        804 non-null    object\n",
      "dtypes: object(11)\n",
      "memory usage: 69.3+ KB\n"
     ]
    },
    {
     "data": {
      "text/html": [
       "<div>\n",
       "<style scoped>\n",
       "    .dataframe tbody tr th:only-of-type {\n",
       "        vertical-align: middle;\n",
       "    }\n",
       "\n",
       "    .dataframe tbody tr th {\n",
       "        vertical-align: top;\n",
       "    }\n",
       "\n",
       "    .dataframe thead th {\n",
       "        text-align: right;\n",
       "    }\n",
       "</style>\n",
       "<table border=\"1\" class=\"dataframe\">\n",
       "  <thead>\n",
       "    <tr style=\"text-align: right;\">\n",
       "      <th></th>\n",
       "      <th>How do you identify? (Race and Ethnicity)</th>\n",
       "      <th>race_category</th>\n",
       "      <th>Are you looking for a new role or opportunity?</th>\n",
       "      <th>What are your top 3 needs as a womxn of color at work?</th>\n",
       "      <th>Billing Zip</th>\n",
       "      <th>Job Title</th>\n",
       "      <th>Job_Title_Grouped</th>\n",
       "      <th>Career_Level</th>\n",
       "      <th>Industry</th>\n",
       "      <th>Company</th>\n",
       "      <th>Company_Original</th>\n",
       "    </tr>\n",
       "  </thead>\n",
       "  <tbody>\n",
       "    <tr>\n",
       "      <th>0</th>\n",
       "      <td>African American</td>\n",
       "      <td>Black</td>\n",
       "      <td>Interested, but not actively seeking a new role</td>\n",
       "      <td>To have my expertise acknowledge\\nTo be includ...</td>\n",
       "      <td>98118</td>\n",
       "      <td>Director, Volunteer Engagement</td>\n",
       "      <td>Director, Volunteer Engagement</td>\n",
       "      <td>Executive/Director</td>\n",
       "      <td>Community Building/ Outreach</td>\n",
       "      <td>United Way Of King County</td>\n",
       "      <td>United Way Of King County</td>\n",
       "    </tr>\n",
       "    <tr>\n",
       "      <th>1</th>\n",
       "      <td>Multiracial Se Asian *and* Pacific Islander Am...</td>\n",
       "      <td>Multiracial</td>\n",
       "      <td>Interested, but not actively seeking a new role</td>\n",
       "      <td>* As a result of the leaky STEMM pipeline in p...</td>\n",
       "      <td>98402</td>\n",
       "      <td>Biologist</td>\n",
       "      <td>Biologist</td>\n",
       "      <td>Mid</td>\n",
       "      <td>Healthcare / Life Sciences</td>\n",
       "      <td>University Of Washington</td>\n",
       "      <td>University Of Washington</td>\n",
       "    </tr>\n",
       "    <tr>\n",
       "      <th>2</th>\n",
       "      <td>South Asian</td>\n",
       "      <td>Asian</td>\n",
       "      <td>No</td>\n",
       "      <td>NaN</td>\n",
       "      <td>98107</td>\n",
       "      <td>Health Economist</td>\n",
       "      <td>Health Economist</td>\n",
       "      <td>Mid</td>\n",
       "      <td>Healthcare / Life Sciences</td>\n",
       "      <td>Seattle Genetics</td>\n",
       "      <td>Seattle Genetics</td>\n",
       "    </tr>\n",
       "    <tr>\n",
       "      <th>3</th>\n",
       "      <td>South Asian</td>\n",
       "      <td>Asian</td>\n",
       "      <td>Interested, but not actively seeking a new role</td>\n",
       "      <td>representation and community of other womxn of...</td>\n",
       "      <td>98103</td>\n",
       "      <td>Principal</td>\n",
       "      <td>Principal</td>\n",
       "      <td>Executive/Director</td>\n",
       "      <td>Education</td>\n",
       "      <td>Mercer</td>\n",
       "      <td>Mercer</td>\n",
       "    </tr>\n",
       "    <tr>\n",
       "      <th>4</th>\n",
       "      <td>African American</td>\n",
       "      <td>Black</td>\n",
       "      <td>Interested, but not actively seeking a new role</td>\n",
       "      <td>Affinity with a trusted band of people; for th...</td>\n",
       "      <td>98052</td>\n",
       "      <td>Director, Opportunity, Equity And Inclusion</td>\n",
       "      <td>Director, Opportunity, Equity And Inclusion</td>\n",
       "      <td>Executive/Director</td>\n",
       "      <td>Education</td>\n",
       "      <td>Lake Washington School District</td>\n",
       "      <td>Lake Washington School District</td>\n",
       "    </tr>\n",
       "  </tbody>\n",
       "</table>\n",
       "</div>"
      ],
      "text/plain": [
       "           How do you identify? (Race and Ethnicity) race_category  \\\n",
       "0                                   African American         Black   \n",
       "1  Multiracial Se Asian *and* Pacific Islander Am...   Multiracial   \n",
       "2                                        South Asian         Asian   \n",
       "3                                        South Asian         Asian   \n",
       "4                                   African American         Black   \n",
       "\n",
       "    Are you looking for a new role or opportunity?  \\\n",
       "0  Interested, but not actively seeking a new role   \n",
       "1  Interested, but not actively seeking a new role   \n",
       "2                                               No   \n",
       "3  Interested, but not actively seeking a new role   \n",
       "4  Interested, but not actively seeking a new role   \n",
       "\n",
       "  What are your top 3 needs as a womxn of color at work? Billing Zip  \\\n",
       "0  To have my expertise acknowledge\\nTo be includ...           98118   \n",
       "1  * As a result of the leaky STEMM pipeline in p...           98402   \n",
       "2                                                NaN           98107   \n",
       "3  representation and community of other womxn of...           98103   \n",
       "4  Affinity with a trusted band of people; for th...           98052   \n",
       "\n",
       "                                     Job Title  \\\n",
       "0               Director, Volunteer Engagement   \n",
       "1                                    Biologist   \n",
       "2                             Health Economist   \n",
       "3                                    Principal   \n",
       "4  Director, Opportunity, Equity And Inclusion   \n",
       "\n",
       "                             Job_Title_Grouped        Career_Level  \\\n",
       "0               Director, Volunteer Engagement  Executive/Director   \n",
       "1                                    Biologist                 Mid   \n",
       "2                             Health Economist                 Mid   \n",
       "3                                    Principal  Executive/Director   \n",
       "4  Director, Opportunity, Equity And Inclusion  Executive/Director   \n",
       "\n",
       "                       Industry                          Company  \\\n",
       "0  Community Building/ Outreach        United Way Of King County   \n",
       "1    Healthcare / Life Sciences         University Of Washington   \n",
       "2    Healthcare / Life Sciences                 Seattle Genetics   \n",
       "3                     Education                           Mercer   \n",
       "4                     Education  Lake Washington School District   \n",
       "\n",
       "                  Company_Original  \n",
       "0        United Way Of King County  \n",
       "1         University Of Washington  \n",
       "2                 Seattle Genetics  \n",
       "3                           Mercer  \n",
       "4  Lake Washington School District  "
      ]
     },
     "execution_count": 27,
     "metadata": {},
     "output_type": "execute_result"
    }
   ],
   "source": [
    "df2 = pd.read_csv('virtual_assembly_rsvp_list_noNames_cleaned3.csv')\n",
    "df2.info()\n",
    "df2.head()"
   ]
  },
  {
   "cell_type": "code",
   "execution_count": 29,
   "metadata": {},
   "outputs": [
    {
     "data": {
      "text/plain": [
       "Black          302\n",
       "Asian          216\n",
       "Hispanic       147\n",
       "Multiracial     83\n",
       "Caucasian       43\n",
       "NHPI             6\n",
       "Unknown          4\n",
       "AIAN             4\n",
       "Name: race_category, dtype: int64"
      ]
     },
     "execution_count": 29,
     "metadata": {},
     "output_type": "execute_result"
    }
   ],
   "source": [
    "df2['race_category'].value_counts()"
   ]
  },
  {
   "cell_type": "code",
   "execution_count": 30,
   "metadata": {},
   "outputs": [],
   "source": [
    "colors_extended = colors = ['#421639','#1b3c31','#a26629','#9a7565','#e5e5e5','#674460','#48625a','#a0a0a0']\n",
    "sns.set_palette(sns.color_palette(colors_extended))"
   ]
  },
  {
   "cell_type": "code",
   "execution_count": 31,
   "metadata": {},
   "outputs": [
    {
     "data": {
      "text/plain": [
       "<matplotlib.axes._subplots.AxesSubplot at 0x21c07433278>"
      ]
     },
     "execution_count": 31,
     "metadata": {},
     "output_type": "execute_result"
    },
    {
     "data": {
      "image/png": "[encoded data removed]",
      "text/plain": [
       "<Figure size 1440x432 with 1 Axes>"
      ]
     },
     "metadata": {
      "needs_background": "light"
     },
     "output_type": "display_data"
    }
   ],
   "source": [
    "sns.set_context('poster',font_scale=2)\n",
    "plt.figure(figsize=(20,6))\n",
    "sns.countplot(x='race_category', data=df2)"
   ]
  },
  {
   "cell_type": "code",
   "execution_count": 32,
   "metadata": {},
   "outputs": [
    {
     "data": {
      "text/plain": [
       "<seaborn.axisgrid.FacetGrid at 0x21c06d1c080>"
      ]
     },
     "execution_count": 32,
     "metadata": {},
     "output_type": "execute_result"
    },
    {
     "data": {
      "image/png": "[encoded data removed]",
      "text/plain": [
       "<Figure size 360x360 with 1 Axes>"
      ]
     },
     "metadata": {
      "needs_background": "light"
     },
     "output_type": "display_data"
    }
   ],
   "source": [
    "sns.set_context('talk')\n",
    "order = ['Black', 'Asian', 'Hispanic', 'Multiracial', 'Caucasian','NHPI', 'AIAN', 'Unknown']\n",
    "sns.catplot(y='race_category',data=df2,kind='count',color='#1b3c31', order=order)"
   ]
  },
  {
   "cell_type": "code",
   "execution_count": 33,
   "metadata": {},
   "outputs": [],
   "source": [
    "from decimal import Decimal "
   ]
  },
  {
   "cell_type": "code",
   "execution_count": 34,
   "metadata": {
    "scrolled": true
   },
   "outputs": [
    {
     "data": {
      "text/html": [
       "<div>\n",
       "<style scoped>\n",
       "    .dataframe tbody tr th:only-of-type {\n",
       "        vertical-align: middle;\n",
       "    }\n",
       "\n",
       "    .dataframe tbody tr th {\n",
       "        vertical-align: top;\n",
       "    }\n",
       "\n",
       "    .dataframe thead th {\n",
       "        text-align: right;\n",
       "    }\n",
       "</style>\n",
       "<table border=\"1\" class=\"dataframe\">\n",
       "  <thead>\n",
       "    <tr style=\"text-align: right;\">\n",
       "      <th></th>\n",
       "      <th>unique_values</th>\n",
       "      <th>counts</th>\n",
       "      <th>percent_attendees</th>\n",
       "    </tr>\n",
       "  </thead>\n",
       "  <tbody>\n",
       "    <tr>\n",
       "      <th>0</th>\n",
       "      <td>Black</td>\n",
       "      <td>302</td>\n",
       "      <td>37.52</td>\n",
       "    </tr>\n",
       "    <tr>\n",
       "      <th>1</th>\n",
       "      <td>Asian</td>\n",
       "      <td>216</td>\n",
       "      <td>26.83</td>\n",
       "    </tr>\n",
       "    <tr>\n",
       "      <th>2</th>\n",
       "      <td>Hispanic</td>\n",
       "      <td>147</td>\n",
       "      <td>18.26</td>\n",
       "    </tr>\n",
       "    <tr>\n",
       "      <th>3</th>\n",
       "      <td>Multiracial</td>\n",
       "      <td>83</td>\n",
       "      <td>10.31</td>\n",
       "    </tr>\n",
       "    <tr>\n",
       "      <th>4</th>\n",
       "      <td>Caucasian</td>\n",
       "      <td>43</td>\n",
       "      <td>5.34</td>\n",
       "    </tr>\n",
       "    <tr>\n",
       "      <th>5</th>\n",
       "      <td>NHPI</td>\n",
       "      <td>6</td>\n",
       "      <td>0.75</td>\n",
       "    </tr>\n",
       "    <tr>\n",
       "      <th>6</th>\n",
       "      <td>Unknown</td>\n",
       "      <td>4</td>\n",
       "      <td>0.50</td>\n",
       "    </tr>\n",
       "    <tr>\n",
       "      <th>7</th>\n",
       "      <td>AIAN</td>\n",
       "      <td>4</td>\n",
       "      <td>0.50</td>\n",
       "    </tr>\n",
       "  </tbody>\n",
       "</table>\n",
       "</div>"
      ],
      "text/plain": [
       "  unique_values  counts percent_attendees\n",
       "0         Black     302             37.52\n",
       "1         Asian     216             26.83\n",
       "2      Hispanic     147             18.26\n",
       "3   Multiracial      83             10.31\n",
       "4     Caucasian      43              5.34\n",
       "5          NHPI       6              0.75\n",
       "6       Unknown       4              0.50\n",
       "7          AIAN       4              0.50"
      ]
     },
     "execution_count": 34,
     "metadata": {},
     "output_type": "execute_result"
    }
   ],
   "source": [
    "df3 = df2['race_category'].value_counts().rename_axis('unique_values').reset_index(name='counts')\n",
    "df3['percent_attendees'] = df3['counts'].apply(lambda x: round(Decimal(x/805*100),2))\n",
    "df3"
   ]
  },
  {
   "cell_type": "code",
   "execution_count": 35,
   "metadata": {},
   "outputs": [
    {
     "data": {
      "text/plain": [
       "Decimal('100.01')"
      ]
     },
     "execution_count": 35,
     "metadata": {},
     "output_type": "execute_result"
    }
   ],
   "source": [
    "df3['percent_attendees'].sum()"
   ]
  },
  {
   "cell_type": "markdown",
   "metadata": {},
   "source": [
    "### Save pickle"
   ]
  },
  {
   "cell_type": "raw",
   "metadata": {},
   "source": [
    "with open('race_counts_df', 'wb') as to_write:\n",
    "    pickle.dump(df3, to_write)"
   ]
  }
 ],
 "metadata": {
  "kernelspec": {
   "display_name": "Python 3",
   "language": "python",
   "name": "python3"
  },
  "language_info": {
   "codemirror_mode": {
    "name": "ipython",
    "version": 3
   },
   "file_extension": ".py",
   "mimetype": "text/x-python",
   "name": "python",
   "nbconvert_exporter": "python",
   "pygments_lexer": "ipython3",
   "version": "3.7.3"
  }
 },
 "nbformat": 4,
 "nbformat_minor": 2
}
